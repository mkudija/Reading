{
 "cells": [
  {
   "cell_type": "code",
   "execution_count": 1,
   "metadata": {},
   "outputs": [
    {
     "name": "stdout",
     "output_type": "stream",
     "text": [
      "In 2011 I read 26 books.\n",
      "In 2012 I read 33 books.\n",
      "In 2013 I read 44 books.\n",
      "In 2014 I read 50 books.\n",
      "In 2015 I read 43 books.\n",
      "In 2016 I read 90 books.\n",
      "In 2017 I read 74 books.\n"
     ]
    }
   ],
   "source": [
    "years = [2011,2012,2013,2014,2015,2016,2017]\n",
    "\n",
    "def books_by_year(year): \n",
    "    # import books\n",
    "    filename = year+'_Books.md'\n",
    "    with open(filename) as f:\n",
    "        books = f.readlines()\n",
    "\n",
    "    # reformat for HTML\n",
    "    books = [x.strip('\\n') for x in books] \n",
    "    books_html = [x.replace('- *','<li><i>').replace('* ','</i> ').replace('*','</i> ')+'</li>' for x in books]\n",
    "\n",
    "    # save HTML formatting\n",
    "    html_file = open('html/'+year+'_books_html.txt', 'w')\n",
    "    for book in books_html:\n",
    "        html_file.write(\"%s\\n\" % book)\n",
    "    html_file.close()\n",
    "\n",
    "    print('In '+year+' I read '+str(len(books))+' books.')\n",
    "    return len(books)\n",
    "\n",
    "number = []\n",
    "for year in years:\n",
    "    x = books_by_year(str(year))\n",
    "    number.append(x)"
   ]
  },
  {
   "cell_type": "code",
   "execution_count": 2,
   "metadata": {
    "scrolled": true
   },
   "outputs": [
    {
     "data": {
      "image/png": "[encoded data removed]",
      "text/plain": [
       "<matplotlib.figure.Figure at 0x10c056710>"
      ]
     },
     "metadata": {},
     "output_type": "display_data"
    }
   ],
   "source": [
    "%matplotlib inline\n",
    "\n",
    "import matplotlib.pyplot as plt\n",
    "fig, ax = plt.subplots()\n",
    "ax.axis('off')\n",
    "plt.bar(years, number, color='#3377b3')\n",
    "for item in range(0,len(years)):\n",
    "    plt.text(years[item], number[item]+3, str(number[item]),ha='center',color='#63666a',fontname='Gill Sans MT',fontsize=14)\n",
    "    plt.text(years[item], -6, str(years[item]),ha='center',color='#63666a',fontname='Gill Sans MT',fontsize=14)\n",
    "fig.savefig('/Users/mkudija/Documents/Matthew/GitHub/mkudija.github.io/images/book_plot.png', bbox_inches='tight')"
   ]
  },
  {
   "cell_type": "code",
   "execution_count": null,
   "metadata": {
    "collapsed": true
   },
   "outputs": [],
   "source": []
  }
 ],
 "metadata": {
  "kernelspec": {
   "display_name": "Python [Root]",
   "language": "python",
   "name": "Python [Root]"
  },
  "language_info": {
   "codemirror_mode": {
    "name": "ipython",
    "version": 3
   },
   "file_extension": ".py",
   "mimetype": "text/x-python",
   "name": "python",
   "nbconvert_exporter": "python",
   "pygments_lexer": "ipython3",
   "version": "3.5.3"
  }
 },
 "nbformat": 4,
 "nbformat_minor": 1
}
